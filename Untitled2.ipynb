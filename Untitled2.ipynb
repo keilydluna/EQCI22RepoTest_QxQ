{
 "cells": [
  {
   "cell_type": "code",
   "execution_count": 2,
   "id": "b5a78adf-ded4-4061-964a-3a6e76ac8ddc",
   "metadata": {},
   "outputs": [],
   "source": [
    "# heading \n"
   ]
  },
  {
   "cell_type": "code",
   "execution_count": null,
   "id": "2fb6e98e-1c62-4674-b5dc-b252bfa31282",
   "metadata": {},
   "outputs": [],
   "source": []
  }
 ],
 "metadata": {
  "kernelspec": {
   "display_name": "Python 3 (ipykernel)",
   "language": "python",
   "name": "python3"
  },
  "language_info": {
   "codemirror_mode": {
    "name": "ipython",
    "version": 3
   },
   "file_extension": ".py",
   "mimetype": "text/x-python",
   "name": "python",
   "nbconvert_exporter": "python",
   "pygments_lexer": "ipython3",
   "version": "3.9.7"
  }
 },
 "nbformat": 4,
 "nbformat_minor": 5
}
